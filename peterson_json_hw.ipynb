{
 "cells": [
  {
   "cell_type": "code",
   "execution_count": 1,
   "id": "74d7bde0-e75c-4b42-b19d-f768ecd3aaab",
   "metadata": {},
   "outputs": [],
   "source": [
    "import json\n",
    "import pandas as pd\n",
    "import requests"
   ]
  },
  {
   "cell_type": "code",
   "execution_count": 2,
   "id": "32440cb4-8124-41b6-b59e-db7d64c0c14b",
   "metadata": {},
   "outputs": [
    {
     "name": "stdin",
     "output_type": "stream",
     "text": [
      " orcl\n"
     ]
    }
   ],
   "source": [
    "stock=input()"
   ]
  },
  {
   "cell_type": "code",
   "execution_count": 3,
   "id": "d5244cab-8e2a-4e25-8976-f41e94d6eb14",
   "metadata": {},
   "outputs": [
    {
     "name": "stdout",
     "output_type": "stream",
     "text": [
      "The Stock we will research is: orcl\n"
     ]
    }
   ],
   "source": [
    "print(\"The Stock we will research is: \" + stock)"
   ]
  },
  {
   "cell_type": "code",
   "execution_count": 4,
   "id": "7d884b71-32c4-4c10-aaa3-329490976325",
   "metadata": {},
   "outputs": [
    {
     "name": "stdout",
     "output_type": "stream",
     "text": [
      "{\"quoteResponse\":{\"result\":[{\"language\":\"en-US\",\"region\":\"US\",\"quoteType\":\"EQUITY\",\"typeDisp\":\"Equity\",\"quoteSourceName\":\"Nasdaq Real Time Price\",\"triggerable\":true,\"customPriceAlertConfidence\":\"HIGH\",\"marketState\":\"POSTPOST\",\"gmtOffSetMilliseconds\":-18000000,\"esgPopulated\":false,\"exchange\":\"NYQ\",\"shortName\":\"Oracle Corporation\",\"longName\":\"Oracle Corporation\",\"messageBoardId\":\"finmb_22247\",\"exchangeTimezoneName\":\"America/New_York\",\"exchangeTimezoneShortName\":\"EST\",\"market\":\"us_market\",\"currency\":\"USD\",\"regularMarketChangePercent\":-0.7895382,\"regularMarketPrice\":87.96,\"fiftyTwoWeekHighChangePercent\":-0.0357378,\"fiftyTwoWeekLow\":60.78,\"fiftyTwoWeekHigh\":91.22,\"dividendDate\":1674518400,\"earningsTimestamp\":1670889600,\"earningsTimestampStart\":1678273140,\"earningsTimestampEnd\":1678708800,\"trailingAnnualDividendRate\":1.28,\"trailingPE\":27.660376,\"trailingAnnualDividendYield\":0.014437174,\"epsTrailingTwelveMonths\":3.18,\"epsForward\":5.57,\"epsCurrentYear\":4.91,\"priceEpsCurrentYear\":17.914461,\"sharesOutstanding\":2696250112,\"bookValue\":-1.576,\"fiftyDayAverage\":85.9456,\"fiftyDayAverageChange\":2.0143967,\"fiftyDayAverageChangePercent\":0.023438042,\"twoHundredDayAverage\":76.188,\"twoHundredDayAverageChange\":11.771996,\"twoHundredDayAverageChangePercent\":0.15451245,\"marketCap\":237162151936,\"forwardPE\":15.79174,\"priceToBook\":-55.812183,\"sourceInterval\":15,\"exchangeDataDelayedBy\":0,\"averageAnalystRating\":\"2.6 - Hold\",\"tradeable\":false,\"cryptoTradeable\":false,\"firstTradeDateMilliseconds\":511021800000,\"priceHint\":2,\"postMarketChangePercent\":-0.272849,\"postMarketTime\":1677545971,\"postMarketPrice\":87.72,\"postMarketChange\":-0.239998,\"regularMarketChange\":-0.7000046,\"regularMarketTime\":1677531807,\"regularMarketDayHigh\":88.97,\"regularMarketDayRange\":\"87.36 - 88.97\",\"regularMarketDayLow\":87.36,\"regularMarketVolume\":5979411,\"regularMarketPreviousClose\":88.66,\"bid\":87.71,\"ask\":88.67,\"bidSize\":8,\"askSize\":10,\"fullExchangeName\":\"NYSE\",\"financialCurrency\":\"USD\",\"regularMarketOpen\":88.86,\"averageDailyVolume3Month\":7151440,\"averageDailyVolume10Day\":6243190,\"fiftyTwoWeekLowChange\":27.18,\"fiftyTwoWeekLowChangePercent\":0.4471866,\"fiftyTwoWeekRange\":\"60.78 - 91.22\",\"fiftyTwoWeekHighChange\":-3.2600021,\"displayName\":\"Oracle\",\"symbol\":\"ORCL\"}],\"error\":null}}\n"
     ]
    }
   ],
   "source": [
    "apikey=\"OZW8lgSIaN2l3ur5R5JxDa3QB1EU0DWY532gID79\"\n",
    "\n",
    "url = \"https://yfapi.net/v6/finance/quote\"\n",
    "\n",
    "querystring = {\"symbols\":stock}\n",
    "\n",
    "headers = {\n",
    "    'x-api-key': apikey\n",
    "    }\n",
    "\n",
    "response = requests.request(\"GET\", url, headers=headers, params=querystring)\n",
    "\n",
    "print(response.text)"
   ]
  },
  {
   "cell_type": "code",
   "execution_count": 5,
   "id": "1eef1342-d818-424e-a4ab-75e312c5999d",
   "metadata": {},
   "outputs": [
    {
     "name": "stdout",
     "output_type": "stream",
     "text": [
      "Oracle Corporation\n"
     ]
    }
   ],
   "source": [
    "stock_json = response.json() \n",
    "print(stock_json['quoteResponse']['result'][0][\"longName\"])"
   ]
  },
  {
   "cell_type": "code",
   "execution_count": 6,
   "id": "0302cf3e-7109-455e-b1c1-877cfb899344",
   "metadata": {},
   "outputs": [
    {
     "name": "stdout",
     "output_type": "stream",
     "text": [
      "87.96\n"
     ]
    }
   ],
   "source": [
    "stock_json_current_price = response.json() \n",
    "print(stock_json_current_price['quoteResponse']['result'][0][\"regularMarketPrice\"])"
   ]
  },
  {
   "cell_type": "code",
   "execution_count": 8,
   "id": "a1a3aac0-fc8e-459e-876f-1a3faa900cd7",
   "metadata": {},
   "outputs": [
    {
     "name": "stdout",
     "output_type": "stream",
     "text": [
      "{\"message\":\"Missing Authentication Token\",\"hint\":\"Sign up for API key https://financeapi.net/tutorial\"}\n"
     ]
    }
   ],
   "source": [
    "apikey=\"OZW8lgSIaN2l3ur5R5JxDa3QB1EU0DWY532gID79\"\n",
    "\n",
    "url = \"https://yfapi.net/v6/finance/quoteSummary/{symbol}\"\n",
    "\n",
    "querystring = {\"symbols\":stock}\n",
    "\n",
    "headers = {\n",
    "    'x-api-key': apikey\n",
    "    }\n",
    "\n",
    "response2 = requests.request(\"GET\", url, headers=headers, params=querystring)\n",
    "\n",
    "print(response2.text)"
   ]
  },
  {
   "cell_type": "code",
   "execution_count": 9,
   "id": "2b8bec0a-14c6-4836-98be-8967b5ae97b5",
   "metadata": {},
   "outputs": [],
   "source": [
    "# The above response does not work because it says I need an API key.\n",
    "# how do you call another link in the same code?"
   ]
  },
  {
   "cell_type": "code",
   "execution_count": null,
   "id": "42c72658-b8ae-42a5-bdde-0dd9e32dbaf4",
   "metadata": {},
   "outputs": [],
   "source": []
  }
 ],
 "metadata": {
  "kernelspec": {
   "display_name": "Python 3 (ipykernel)",
   "language": "python",
   "name": "python3"
  },
  "language_info": {
   "codemirror_mode": {
    "name": "ipython",
    "version": 3
   },
   "file_extension": ".py",
   "mimetype": "text/x-python",
   "name": "python",
   "nbconvert_exporter": "python",
   "pygments_lexer": "ipython3",
   "version": "3.8.13"
  }
 },
 "nbformat": 4,
 "nbformat_minor": 5
}
